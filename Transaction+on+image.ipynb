{
 "cells": [
  {
   "cell_type": "markdown",
   "metadata": {},
   "source": [
    "# Scaling\n",
    "In this type we will resize any pciture.\n",
    "Input:Picture.\n",
    "Output:picture thar new resize.\n",
    "\n",
    "how it do ?\n",
    "img = cv2.imread('images/messi5.jpg',0) \n",
    "this function get picture from file definite.\n",
    "************************************\n",
    "res = cv2.resize(img,None,fx=2, fy=2, interpolation = cv2.INTER_CUBIC)\n",
    "************************************\n",
    "this function resize picture by (mult the width,hight bt 2 )... resize to big picture.\n",
    "************************************\n",
    "cv2.imshow('resize 1', res);\n",
    "this function show the image after resize (new picture) Attribute is (name of picture,new picture after resize).\n",
    "************************************\n",
    "cv2.waitKey(0)\n",
    "after show picture the user cant wait some time to hide this picture, then the picture is display along time to user click any interaction.\n",
    "************************************\n",
    "cv2.destroyAllWindows()\n",
    "this function to do hide this picture if user create any action on a computer ."
   ]
  },
  {
   "cell_type": "code",
   "execution_count": null,
   "metadata": {
    "collapsed": true
   },
   "outputs": [],
   "source": [
    "import cv2\n",
    "import numpy as np\n",
    "img = cv2.imread('images/messi5.jpg',0)\n",
    "res = cv2.resize(img,None,fx=2, fy=2, interpolation = cv2.INTER_CUBIC)\n",
    "cv2.imshow('resize 1', res);\n",
    "cv2.waitKey(0)\n",
    "cv2.destroyAllWindows()"
   ]
  },
  {
   "cell_type": "markdown",
   "metadata": {},
   "source": [
    "# Translation\n",
    "In this type we will to show any picture ( from orginal pic to a new pic ) from specific points.\n",
    "Input: picture with new points.\n",
    "Output: new picture show start new point.\n",
    "\n",
    "how it do ?\n",
    "img = cv2.imread('images/messi5.jpg',0)\n",
    "***************************************\n",
    "rows,cols = img.shape\n",
    "this is (.shap) give properties picture (how many coloms and rows).\n",
    "***************************************\n",
    "M = np.float32([[1,0,100],[0,1,50]])\n",
    "In this function I detrmained picture Where to start.\n",
    "***************************************\n",
    "dst = cv2.warpAffine(img,M,(cols,rows))\n",
    "do process on this picture by the properties Which I gave.\n",
    "***************************************\n",
    "cv2.imshow('img',dst)\n",
    "cv2.waitKey(0)\n",
    "cv2.destroyAllWindows()"
   ]
  },
  {
   "cell_type": "code",
   "execution_count": null,
   "metadata": {
    "collapsed": true
   },
   "outputs": [],
   "source": [
    "import cv2\n",
    "import numpy as np\n",
    "img = cv2.imread('images/messi5.jpg',0)\n",
    "rows,cols = img.shape\n",
    "M = np.float32([[1,0,100],[0,1,50]])\n",
    "dst = cv2.warpAffine(img,M,(cols,rows))\n",
    "cv2.imshow('img',dst)\n",
    "cv2.waitKey(0)\n",
    "cv2.destroyAllWindows()"
   ]
  },
  {
   "cell_type": "markdown",
   "metadata": {},
   "source": [
    "# Rotation\n",
    "In this type we will to rotate picture to any angle.\n",
    "Input: any picture.\n",
    "Output: this picture is rotate Based on what is the angle detrmain.\n",
    "\n",
    "what it do ?\n",
    "\n",
    "rows,cols = img.shape\n",
    "**************************************\n",
    "M = cv2.getRotationMatrix2D((cols/2,rows/2),180,1)\n",
    "this function rotate this picture 180 angle but you must destmain center in picture to do this angle .\n",
    "**************************************\n",
    "dst = cv2.warpAffine(img,M,(cols,rows))\n",
    "this function understand prenious in translation type.\n",
    "**************************************\n",
    "final_frame = cv2.hconcat((img, dst))\n",
    "colect the orginal picture and new picture to show w picture at the same time.\n",
    "**************************************\n",
    "cv2.imshow('image',final_frame)\n",
    "cv2.waitKey(0)\n",
    "cv2.destroyAllWindows()"
   ]
  },
  {
   "cell_type": "markdown",
   "metadata": {},
   "source": [
    "# Affine\n",
    "\n",
    "img = cv2.imread('images/drawing.png')\n",
    "****************************************\n",
    "rows,cols,ch = img.shape\n",
    "function shap retrn how many ( row and coloms , and if the picture \"gray\" or \"colers 'RGB'\").\n",
    "****************************************\n",
    "pts1 = np.float32([[50,50],[200,50],[50,200]])\n",
    "pts2 = np.float32([[10,100],[200,50],[100,250]])\n",
    "detrmain what is the points (pixels) int pts1 && i want to show on the new picture in pts2 .\n",
    "****************************************\n",
    "M = cv2.getAffineTransform(pts1,pts2)\n",
    "Applay what i mean in previous by this function (getAffineTransform) and the attribute is (pixels detrmain). \n",
    "****************************************\n",
    "dst = cv2.warpAffine(img,M,(cols,rows))\n",
    "show image (width ,hight) = cols and rows.\n",
    "****************************************\n",
    "plt.subplot(121),plt.imshow(img),plt.title('Input')\n",
    "plt.subplot(122),plt.imshow(dst),plt.title('Output')\n",
    "in this code it make to Arrangement show picture (result) 12/2-->2(right side)....12/1--->1(left side) so this Arrangement\n",
    "by how this code is Arrangement.( just use 0 or 1) ..... if write(122) in same picture so the result ( 2 picture over some).\n",
    "*****************************************\n",
    "plt.show()\n",
    "show this result after Arrangement."
   ]
  },
  {
   "cell_type": "code",
   "execution_count": 1,
   "metadata": {},
   "outputs": [
    {
     "ename": "ValueError",
     "evalue": "not enough values to unpack (expected 3, got 2)",
     "output_type": "error",
     "traceback": [
      "\u001b[1;31m---------------------------------------------------------------------------\u001b[0m",
      "\u001b[1;31mValueError\u001b[0m                                Traceback (most recent call last)",
      "\u001b[1;32m<ipython-input-1-a8fed5b41987>\u001b[0m in \u001b[0;36m<module>\u001b[1;34m()\u001b[0m\n\u001b[0;32m      3\u001b[0m \u001b[1;32mimport\u001b[0m \u001b[0mmatplotlib\u001b[0m\u001b[1;33m.\u001b[0m\u001b[0mpyplot\u001b[0m \u001b[1;32mas\u001b[0m \u001b[0mplt\u001b[0m\u001b[1;33m\u001b[0m\u001b[0m\n\u001b[0;32m      4\u001b[0m \u001b[0mimg2\u001b[0m\u001b[1;33m=\u001b[0m\u001b[0mcv2\u001b[0m\u001b[1;33m.\u001b[0m\u001b[0mimread\u001b[0m\u001b[1;33m(\u001b[0m\u001b[1;34m'images/swan.pgm'\u001b[0m\u001b[1;33m,\u001b[0m\u001b[1;36m0\u001b[0m\u001b[1;33m)\u001b[0m\u001b[1;33m\u001b[0m\u001b[0m\n\u001b[1;32m----> 5\u001b[1;33m \u001b[0mrows\u001b[0m\u001b[1;33m,\u001b[0m\u001b[0mcols\u001b[0m\u001b[1;33m,\u001b[0m\u001b[0mch\u001b[0m \u001b[1;33m=\u001b[0m \u001b[0mimg2\u001b[0m\u001b[1;33m.\u001b[0m\u001b[0mshape\u001b[0m\u001b[1;33m\u001b[0m\u001b[0m\n\u001b[0m\u001b[0;32m      6\u001b[0m \u001b[0mpts1\u001b[0m \u001b[1;33m=\u001b[0m \u001b[0mnp\u001b[0m\u001b[1;33m.\u001b[0m\u001b[0mfloat32\u001b[0m\u001b[1;33m(\u001b[0m\u001b[1;33m[\u001b[0m\u001b[1;33m[\u001b[0m\u001b[1;36m50\u001b[0m\u001b[1;33m,\u001b[0m\u001b[1;36m50\u001b[0m\u001b[1;33m]\u001b[0m\u001b[1;33m,\u001b[0m\u001b[1;33m[\u001b[0m\u001b[1;36m200\u001b[0m\u001b[1;33m,\u001b[0m\u001b[1;36m50\u001b[0m\u001b[1;33m]\u001b[0m\u001b[1;33m,\u001b[0m\u001b[1;33m[\u001b[0m\u001b[1;36m50\u001b[0m\u001b[1;33m,\u001b[0m\u001b[1;36m200\u001b[0m\u001b[1;33m]\u001b[0m\u001b[1;33m]\u001b[0m\u001b[1;33m)\u001b[0m\u001b[1;33m\u001b[0m\u001b[0m\n\u001b[0;32m      7\u001b[0m \u001b[0mpts2\u001b[0m \u001b[1;33m=\u001b[0m \u001b[0mnp\u001b[0m\u001b[1;33m.\u001b[0m\u001b[0mfloat32\u001b[0m\u001b[1;33m(\u001b[0m\u001b[1;33m[\u001b[0m\u001b[1;33m[\u001b[0m\u001b[1;36m10\u001b[0m\u001b[1;33m,\u001b[0m\u001b[1;36m100\u001b[0m\u001b[1;33m]\u001b[0m\u001b[1;33m,\u001b[0m\u001b[1;33m[\u001b[0m\u001b[1;36m200\u001b[0m\u001b[1;33m,\u001b[0m\u001b[1;36m50\u001b[0m\u001b[1;33m]\u001b[0m\u001b[1;33m,\u001b[0m\u001b[1;33m[\u001b[0m\u001b[1;36m100\u001b[0m\u001b[1;33m,\u001b[0m\u001b[1;36m250\u001b[0m\u001b[1;33m]\u001b[0m\u001b[1;33m]\u001b[0m\u001b[1;33m)\u001b[0m\u001b[1;33m\u001b[0m\u001b[0m\n",
      "\u001b[1;31mValueError\u001b[0m: not enough values to unpack (expected 3, got 2)"
     ]
    }
   ],
   "source": [
    "import cv2\n",
    "import numpy as np\n",
    "import matplotlib.pyplot as plt\n",
    "img2=cv2.imread('images/swan.pgm',0)\n",
    "rows,cols,ch = img2.shape\n",
    "pts1 = np.float32([[50,50],[200,50],[50,200]])\n",
    "pts2 = np.float32([[10,100],[200,50],[100,250]])\n",
    "M = cv2.getAffineTransform(pts1,pts2)\n",
    "dst = cv2.warpAffine(img,M,(cols,rows))\n",
    "plt.subplot(121),plt.imshow(img),plt.title('Input')\n",
    "plt.subplot(122),plt.imshow(dst),plt.title('Output')\n",
    "plt.show()"
   ]
  },
  {
   "cell_type": "markdown",
   "metadata": {},
   "source": [
    "# Perspective\n",
    "in this type same do code in the previous type (Affine).\n",
    "\n",
    "what is do ?\n",
    "\n",
    "img = cv2.imread('images/sudokusmall.png')\n",
    "rows,cols,ch = img.shape\n",
    "pts1 = np.float32([[56,65],[368,52],[28,387],[389,390]])\n",
    "pts2 = np.float32([[0,0],[200,0],[0,200],[200,200]])\n",
    "M = cv2.getPerspectiveTransform(pts1,pts2)\n",
    "dst = cv2.warpPerspective(img,M,(300,300))\n",
    "plt.subplot(121),plt.imshow(img),plt.title('Input')\n",
    "plt.subplot(122),plt.imshow(dst),plt.title('Output')\n",
    "plt.show()"
   ]
  },
  {
   "cell_type": "code",
   "execution_count": 4,
   "metadata": {},
   "outputs": [
    {
     "data": {
      "image/png": "[encoded data removed]",
      "text/plain": [
       "<matplotlib.figure.Figure at 0x1a876d36f98>"
      ]
     },
     "metadata": {},
     "output_type": "display_data"
    },
    {
     "ename": "NameError",
     "evalue": "name 'oimg' is not defined",
     "output_type": "error",
     "traceback": [
      "\u001b[1;31m---------------------------------------------------------------------------\u001b[0m",
      "\u001b[1;31mNameError\u001b[0m                                 Traceback (most recent call last)",
      "\u001b[1;32m<ipython-input-4-b7b8b5308c9c>\u001b[0m in \u001b[0;36m<module>\u001b[1;34m()\u001b[0m\n\u001b[0;32m     10\u001b[0m \u001b[0mtitleArr\u001b[0m \u001b[1;33m=\u001b[0m \u001b[1;33m[\u001b[0m\u001b[1;34m'Orginal Images'\u001b[0m\u001b[1;33m,\u001b[0m\u001b[1;34m'Grey Images'\u001b[0m\u001b[1;33m,\u001b[0m\u001b[1;34m'Image threshold'\u001b[0m\u001b[1;33m,\u001b[0m\u001b[1;34m'new mimge'\u001b[0m\u001b[1;33m]\u001b[0m\u001b[1;33m\u001b[0m\u001b[0m\n\u001b[0;32m     11\u001b[0m \u001b[1;33m\u001b[0m\u001b[0m\n\u001b[1;32m---> 12\u001b[1;33m \u001b[0mimagesArr\u001b[0m\u001b[1;33m=\u001b[0m \u001b[1;33m[\u001b[0m\u001b[0moimg\u001b[0m\u001b[1;33m,\u001b[0m\u001b[0mgimg\u001b[0m\u001b[1;33m,\u001b[0m\u001b[0mthresh1\u001b[0m\u001b[1;33m,\u001b[0m\u001b[0mmimg\u001b[0m\u001b[1;33m]\u001b[0m\u001b[1;31m#must do array to print images.\u001b[0m\u001b[1;33m\u001b[0m\u001b[0m\n\u001b[0m\u001b[0;32m     13\u001b[0m \u001b[1;33m\u001b[0m\u001b[0m\n\u001b[0;32m     14\u001b[0m \u001b[1;32mfor\u001b[0m \u001b[0mi\u001b[0m \u001b[1;32min\u001b[0m \u001b[0mrange\u001b[0m\u001b[1;33m(\u001b[0m\u001b[1;36m4\u001b[0m\u001b[1;33m)\u001b[0m\u001b[1;33m:\u001b[0m\u001b[1;33m\u001b[0m\u001b[0m\n",
      "\u001b[1;31mNameError\u001b[0m: name 'oimg' is not defined"
     ]
    }
   ],
   "source": [
    "import cv2\n",
    "import numpy as np\n",
    "from matplotlib import pyplot as plt\n",
    "img2=cv2.imread('images/swan.pgm',0)\n",
    "hist=plt.hist(img2.ravel(),256,[0,256])#here by the matplotlib to do histogram\n",
    "plt.title('Histogram')\n",
    "plt.show()\n",
    "cv2.destroyAllWindows()\n",
    "ret,thresh1 = cv2.threshold(img2,127,255,cv2.THRESH_BINARY)#do threshold to do image black and white color ret must put that before the theshold att\n",
    "titleArr = ['Orginal Images','Grey Images','Image threshold','new mimge']\n",
    "\n",
    "imagesArr= [oimg,img2,thresh1,img2]#must do array to print images.\n",
    "\n",
    "for i in range(4):\n",
    "   # plt.subplot(2,3,i+1),plt.imshow(imagesArr[i],'grey')\n",
    "    plt.subplot(2,3,i+1),plt.imshow(imagesArr[i],'gray')\n",
    "    plt.title(titleArr[i])\n",
    "    plt.xticks([]), plt.yticks([])\n",
    "    plt.show()"
   ]
  },
  {
   "cell_type": "markdown",
   "metadata": {},
   "source": [
    "# HW\n",
    "In this Hw the you must show the Object and blure the Background.\n",
    "\n",
    "1:\n",
    "I need to convert the orginal picture to gray picture.\n",
    "2:\n",
    "also create threashold to gray picture becouse i need this in ( mullty function) --> the output (white(1)+black(0))---->(object(white),Background(black)).\n",
    "3:\n",
    "multiply (gray with threahold)--->(background In threashold(0)*background in orginal(gray) /whith/ Object in threashold(1) * Object in background (1))..... so the object is show and the background is black. "
   ]
  },
  {
   "cell_type": "code",
   "execution_count": 2,
   "metadata": {
    "scrolled": true
   },
   "outputs": [
    {
     "data": {
      "image/png": "[encoded data removed]",
      "text/plain": [
       "<matplotlib.figure.Figure at 0x1f476239e48>"
      ]
     },
     "metadata": {},
     "output_type": "display_data"
    },
    {
     "ename": "error",
     "evalue": "C:\\bld\\opencv_1498171314629\\work\\opencv-3.2.0\\modules\\imgproc\\src\\smooth.cpp:3543: error: (-210)  in function cv::medianBlur\n",
     "output_type": "error",
     "traceback": [
      "\u001b[1;31m---------------------------------------------------------------------------\u001b[0m",
      "\u001b[1;31merror\u001b[0m                                     Traceback (most recent call last)",
      "\u001b[1;32m<ipython-input-2-3a1d78fa99d5>\u001b[0m in \u001b[0;36m<module>\u001b[1;34m()\u001b[0m\n\u001b[0;32m     11\u001b[0m \u001b[0mret\u001b[0m\u001b[1;33m,\u001b[0m\u001b[0mBGwhiteimg\u001b[0m \u001b[1;33m=\u001b[0m \u001b[0mcv2\u001b[0m\u001b[1;33m.\u001b[0m\u001b[0mthreshold\u001b[0m\u001b[1;33m(\u001b[0m\u001b[0mOrginalimage\u001b[0m\u001b[1;33m,\u001b[0m\u001b[1;36m127\u001b[0m\u001b[1;33m,\u001b[0m\u001b[1;36m255\u001b[0m\u001b[1;33m,\u001b[0m\u001b[0mcv2\u001b[0m\u001b[1;33m.\u001b[0m\u001b[0mTHRESH_BINARY_INV\u001b[0m\u001b[1;33m)\u001b[0m\u001b[1;33m\u001b[0m\u001b[0m\n\u001b[0;32m     12\u001b[0m \u001b[0mGrayImage\u001b[0m \u001b[1;33m=\u001b[0m \u001b[0mcv2\u001b[0m\u001b[1;33m.\u001b[0m\u001b[0mmultiply\u001b[0m\u001b[1;33m(\u001b[0m\u001b[0mOrginalimage\u001b[0m\u001b[1;33m/\u001b[0m\u001b[1;36m255\u001b[0m\u001b[1;33m,\u001b[0m\u001b[0mBGwhiteimg\u001b[0m\u001b[1;33m/\u001b[0m\u001b[1;36m255\u001b[0m\u001b[1;33m)\u001b[0m\u001b[1;33m\u001b[0m\u001b[0m\n\u001b[1;32m---> 13\u001b[1;33m \u001b[0mmedian\u001b[0m \u001b[1;33m=\u001b[0m \u001b[0mcv2\u001b[0m\u001b[1;33m.\u001b[0m\u001b[0mmedianBlur\u001b[0m\u001b[1;33m(\u001b[0m\u001b[0mGrayImage\u001b[0m\u001b[1;33m,\u001b[0m\u001b[1;36m5\u001b[0m\u001b[1;33m)\u001b[0m\u001b[1;33m\u001b[0m\u001b[0m\n\u001b[0m\u001b[0;32m     14\u001b[0m \u001b[1;31m#median = cv2.medianBlur(GrayImage,11,0)\u001b[0m\u001b[1;33m\u001b[0m\u001b[1;33m\u001b[0m\u001b[0m\n\u001b[0;32m     15\u001b[0m \u001b[0maddimg\u001b[0m \u001b[1;33m=\u001b[0m \u001b[0mcv2\u001b[0m\u001b[1;33m.\u001b[0m\u001b[0madd\u001b[0m\u001b[1;33m(\u001b[0m\u001b[0mobjectimg\u001b[0m\u001b[1;33m,\u001b[0m \u001b[0mblur\u001b[0m\u001b[1;33m)\u001b[0m\u001b[1;33m\u001b[0m\u001b[0m\n",
      "\u001b[1;31merror\u001b[0m: C:\\bld\\opencv_1498171314629\\work\\opencv-3.2.0\\modules\\imgproc\\src\\smooth.cpp:3543: error: (-210)  in function cv::medianBlur\n"
     ]
    }
   ],
   "source": [
    "import cv2\n",
    "import numpy as np\n",
    "from matplotlib import pyplot as plt\n",
    "gimg = cv2.imread('images/mo.jpg',1)\n",
    "oimg = cv2.imread('images/mo.jpg')\n",
    "hist=plt.hist(gimg.ravel(),256,[0,256])#here by the matplotlib to do histogram\n",
    "plt.title('Histogram')\n",
    "plt.show()\n",
    "cv2.destroyAllWindows()\n",
    "ret,thresh1 = cv2.threshold(gimg,127,255,cv2.THRESH_BINARY)#do threshold to do image black and white color ret must put that before the theshold att\n",
    "#ch = oimg.shape[: :3]\n",
    " \n",
    "#bimg = cv2.multiply(oimg, (500,750,1))\n",
    "objectimg = cv2.multiply(gimg/255, thresh1/255)\n",
    "#bimg = oimg * thresh1\n",
    "ret,BGwhiteimg = cv2.threshold(gimg,127,255,cv2.THRESH_BINARY_INV)\n",
    "GrayBG = cv2.multiply(gimg/255,BGwhiteimg/255)\n",
    "blur = cv2.GaussianBlur(GrayBG,(91,91),0)\n",
    "\n",
    "\n",
    "addimg = cv2.add(objectimg, blur)\n",
    "#Colorimg = cv2.cvtColor(addimg,cv2.COLOR_GRAY2RGB)\n",
    "\n",
    "\n",
    "\n",
    "#cv2.imshow('resize 1', addimg) \n",
    "#cv2.waitKey(0)\n",
    "#cv2.destroyAllWindows()\n",
    "titleArr = ['Orginal Images','Grey Images','Image threshold','new mimge','White background image','gray background','Blur image','add images']\n",
    "\n",
    "imagesArr= [oimg,gimg,thresh1,objectimg,BGwhiteimg,GrayBG,blur,addimg]#must do array to print images.\n",
    "\n",
    "for i in range(8):\n",
    "   # plt.subplot(2,3,i+1),plt.imshow(imagesArr[i],'grey')\n",
    "    plt.subplot(3,3,i+1),plt.imshow(imagesArr[i],'gray')\n",
    "    plt.title(titleArr[i])\n",
    "    plt.xticks([]), plt.yticks([])\n",
    "    plt.show()\n",
    "    \n",
    "    \n",
    "    \n"
   ]
  },
  {
   "cell_type": "code",
   "execution_count": null,
   "metadata": {
    "collapsed": true
   },
   "outputs": [],
   "source": []
  },
  {
   "cell_type": "code",
   "execution_count": null,
   "metadata": {
    "collapsed": true
   },
   "outputs": [],
   "source": []
  },
  {
   "cell_type": "code",
   "execution_count": null,
   "metadata": {
    "collapsed": true
   },
   "outputs": [],
   "source": []
  }
 ],
 "metadata": {
  "kernelspec": {
   "display_name": "Python 3",
   "language": "python",
   "name": "python3"
  },
  "language_info": {
   "codemirror_mode": {
    "name": "ipython",
    "version": 3
   },
   "file_extension": ".py",
   "mimetype": "text/x-python",
   "name": "python",
   "nbconvert_exporter": "python",
   "pygments_lexer": "ipython3",
   "version": "3.6.1"
  }
 },
 "nbformat": 4,
 "nbformat_minor": 2
}
